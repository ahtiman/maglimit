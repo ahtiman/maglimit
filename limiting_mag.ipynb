{
 "cells": [
  {
   "cell_type": "markdown",
   "metadata": {},
   "source": [
    "# maglimit"
   ]
  },
  {
   "cell_type": "markdown",
   "metadata": {},
   "source": [
    "### $$L_{mag} = 2 + 5\\log{D_0} $$\n",
    "\n",
    "### $$D_0 = 10^{\\frac{L_{mag} - 2}{5}}$$"
   ]
  },
  {
   "cell_type": "code",
   "execution_count": 1,
   "metadata": {},
   "outputs": [],
   "source": [
    "import numpy as np\n",
    "import astropy.units as u\n",
    "from astropy.coordinates import SkyCoord\n",
    "from astroquery.ipac.ned import Ned\n",
    "from astroquery.sdss import SDSS\n",
    "from astroquery.vizier import Vizier"
   ]
  },
  {
   "cell_type": "code",
   "execution_count": 2,
   "metadata": {},
   "outputs": [
    {
     "data": {
      "text/html": [
       "<div><i>Table length=1</i>\n",
       "<table id=\"table140628626131600\" class=\"table-striped table-bordered table-condensed\">\n",
       "<thead><tr><th>No.</th><th>Object Name</th><th>RA</th><th>DEC</th><th>Type</th><th>Velocity</th><th>Redshift</th><th>Redshift Flag</th><th>Magnitude and Filter</th><th>Separation</th><th>References</th><th>Notes</th><th>Photometry Points</th><th>Positions</th><th>Redshift Points</th><th>Diameter Points</th><th>Associations</th></tr></thead>\n",
       "<thead><tr><th></th><th></th><th>degrees</th><th>degrees</th><th></th><th>km / s</th><th></th><th></th><th></th><th>arcmin</th><th></th><th></th><th></th><th></th><th></th><th></th><th></th></tr></thead>\n",
       "<thead><tr><th>int32</th><th>str30</th><th>float64</th><th>float64</th><th>object</th><th>float64</th><th>float64</th><th>object</th><th>object</th><th>float64</th><th>int32</th><th>int32</th><th>int32</th><th>int32</th><th>int32</th><th>int32</th><th>int32</th></tr></thead>\n",
       "<tr><td>1</td><td>MESSIER 041</td><td>101.49974</td><td>-20.75421</td><td>*Cl</td><td>--</td><td>--</td><td></td><td></td><td>--</td><td>3</td><td>1</td><td>0</td><td>1</td><td>0</td><td>0</td><td>0</td></tr>\n",
       "</table></div>"
      ],
      "text/plain": [
       "<Table length=1>\n",
       " No.  Object Name     RA     ... Redshift Points Diameter Points Associations\n",
       "                   degrees   ...                                             \n",
       "int32    str30     float64   ...      int32           int32         int32    \n",
       "----- ----------- ---------- ... --------------- --------------- ------------\n",
       "    1 MESSIER 041  101.49974 ...               0               0            0"
      ]
     },
     "execution_count": 2,
     "metadata": {},
     "output_type": "execute_result"
    }
   ],
   "source": [
    "ob = Ned.query_object(\"M41\")\n",
    "ob"
   ]
  },
  {
   "cell_type": "code",
   "execution_count": 19,
   "metadata": {},
   "outputs": [],
   "source": [
    "class Telescope():\n",
    "    def __init__(self, aperture, fstop):\n",
    "        self.aperture = aperture*u.mm\n",
    "        self.fstop = fstop\n",
    "\n",
    "    def focal_length(self):\n",
    "        return self.aperture*self.fstop\n",
    "\n",
    "    def magnification(self,f_eyepiece):\n",
    "        return int((self.focal_length()/f_eyepiece*u.mm).value)\n",
    "\n",
    "    def lim_mag(self):\n",
    "        return np.round(2 + 5*np.log10(self.aperture.value),2)\n",
    "\n",
    "\n",
    "\n",
    "def is_object_observable(obj,lm):\n",
    "    ob = float(Ned.query_object(obj)[\"Magnitude and Filter\"][0])\n",
    "    print(f\"Limiting magnitude of scope is {lm} and magnitude of {obj} is {ob}\")\n",
    "    if ob > lm:\n",
    "        return False\n",
    "    else:\n",
    "        return True\n",
    "\n",
    "\n",
    "\n",
    "def smallest_scope(lm,fs):\n",
    "    ap = np.round(10**((lm-2)/5),2)\n",
    "    fl = np.round(fs*ap,2)\n",
    "    return ap,fl"
   ]
  },
  {
   "cell_type": "code",
   "execution_count": 20,
   "metadata": {},
   "outputs": [],
   "source": [
    "scope = Telescope(400, 5.5)"
   ]
  },
  {
   "cell_type": "code",
   "execution_count": 21,
   "metadata": {},
   "outputs": [
    {
     "data": {
      "text/latex": [
       "$2200 \\; \\mathrm{mm}$"
      ],
      "text/plain": [
       "<Quantity 2200. mm>"
      ]
     },
     "execution_count": 21,
     "metadata": {},
     "output_type": "execute_result"
    }
   ],
   "source": [
    "scope.focal_length()"
   ]
  },
  {
   "cell_type": "code",
   "execution_count": 22,
   "metadata": {},
   "outputs": [
    {
     "data": {
      "text/plain": [
       "220"
      ]
     },
     "execution_count": 22,
     "metadata": {},
     "output_type": "execute_result"
    }
   ],
   "source": [
    "scope.magnification(10)"
   ]
  },
  {
   "cell_type": "code",
   "execution_count": 23,
   "metadata": {},
   "outputs": [
    {
     "data": {
      "text/plain": [
       "15.01"
      ]
     },
     "execution_count": 23,
     "metadata": {},
     "output_type": "execute_result"
    }
   ],
   "source": [
    "scope.lim_mag()"
   ]
  },
  {
   "cell_type": "code",
   "execution_count": 24,
   "metadata": {},
   "outputs": [
    {
     "name": "stdout",
     "output_type": "stream",
     "text": [
      "Limiting magnitude of scope is 15.01 and magnitude of M 31 is 4.36\n"
     ]
    },
    {
     "data": {
      "text/plain": [
       "True"
      ]
     },
     "execution_count": 24,
     "metadata": {},
     "output_type": "execute_result"
    }
   ],
   "source": [
    "is_object_observable(\"M 31\",scope.lim_mag())"
   ]
  },
  {
   "cell_type": "code",
   "execution_count": 25,
   "metadata": {},
   "outputs": [
    {
     "name": "stdout",
     "output_type": "stream",
     "text": [
      "Limiting magnitude of scope is 15.01 and magnitude of NGC 2341 is 13.84\n"
     ]
    },
    {
     "data": {
      "text/plain": [
       "True"
      ]
     },
     "execution_count": 25,
     "metadata": {},
     "output_type": "execute_result"
    }
   ],
   "source": [
    "is_object_observable(\"NGC 2341\",scope.lim_mag())"
   ]
  },
  {
   "cell_type": "code",
   "execution_count": 27,
   "metadata": {},
   "outputs": [
    {
     "data": {
      "text/plain": [
       "(399.94, 1799.73)"
      ]
     },
     "execution_count": 27,
     "metadata": {},
     "output_type": "execute_result"
    }
   ],
   "source": [
    "smallest_scope(15.01,4.5)"
   ]
  },
  {
   "cell_type": "code",
   "execution_count": null,
   "metadata": {},
   "outputs": [],
   "source": []
  }
 ],
 "metadata": {
  "kernelspec": {
   "display_name": "Python 3.10.4 ('codeastro')",
   "language": "python",
   "name": "python3"
  },
  "language_info": {
   "codemirror_mode": {
    "name": "ipython",
    "version": 3
   },
   "file_extension": ".py",
   "mimetype": "text/x-python",
   "name": "python",
   "nbconvert_exporter": "python",
   "pygments_lexer": "ipython3",
   "version": "3.10.4"
  },
  "orig_nbformat": 4,
  "vscode": {
   "interpreter": {
    "hash": "7515a693c01f52b638d4b3064b0c43038e4c3279d18f32370a431825169c7029"
   }
  }
 },
 "nbformat": 4,
 "nbformat_minor": 2
}
